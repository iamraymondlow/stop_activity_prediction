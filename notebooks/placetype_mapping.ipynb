{
 "cells": [
  {
   "cell_type": "code",
   "execution_count": null,
   "id": "lesser-lightning",
   "metadata": {},
   "outputs": [],
   "source": [
    "import pandas as pd\n",
    "import numpy as np\n",
    "import matplotlib.pyplot as plt\n",
    "from gensim.models.fasttext import load_facebook_vectors\n",
    "from scipy.cluster import hierarchy"
   ]
  },
  {
   "cell_type": "code",
   "execution_count": null,
   "id": "crucial-bidder",
   "metadata": {},
   "outputs": [],
   "source": [
    "# load facebook vectors\n",
    "word_vec = load_facebook_vectors(\"../data/crawl-300d-2M-subword.bin\")"
   ]
  },
  {
   "cell_type": "code",
   "execution_count": null,
   "id": "formal-stack",
   "metadata": {
    "pycharm": {
     "name": "#%%\n"
    }
   },
   "outputs": [],
   "source": [
    "# prepare data for clustering\n",
    "placetype_mapping = pd.read_excel('../data/mappings/placetype_mapping.xlsx')\n",
    "google_placetype = placetype_mapping['OriginalPlaceType'].tolist()\n",
    "google_placetype = [placetype.replace('_', ' ') for placetype in google_placetype]\n",
    "\n",
    "google_df = pd.DataFrame(google_placetype, columns=['placetype'])\n",
    "vectors = np.zeros((len(google_placetype), 300))\n",
    "\n",
    "for i in range(len(google_df)):\n",
    "    vectors[i, :] = word_vec[google_df.loc[i, 'placetype']]\n",
    "\n",
    "google_df = pd.concat([google_df, pd.DataFrame(vectors)], axis=1)\n",
    "google_df.set_index('placetype', inplace=True)"
   ]
  },
  {
   "cell_type": "code",
   "execution_count": null,
   "id": "grateful-formation",
   "metadata": {
    "pycharm": {
     "name": "#%%\n"
    }
   },
   "outputs": [],
   "source": [
    "# plot dendrogram\n",
    "Z = hierarchy.linkage(google_df, 'ward')\n",
    "plt.figure(figsize=(10,30))\n",
    "dn = hierarchy.dendrogram(Z, orientation='right',\n",
    "                          leaf_font_size=8, labels=google_df.index)\n"
   ]
  }
 ],
 "metadata": {
  "kernelspec": {
   "display_name": "Python 3",
   "language": "python",
   "name": "python3"
  },
  "language_info": {
   "codemirror_mode": {
    "name": "ipython",
    "version": 3
   },
   "file_extension": ".py",
   "mimetype": "text/x-python",
   "name": "python",
   "nbconvert_exporter": "python",
   "pygments_lexer": "ipython3",
   "version": "3.9.0"
  }
 },
 "nbformat": 4,
 "nbformat_minor": 5
}
